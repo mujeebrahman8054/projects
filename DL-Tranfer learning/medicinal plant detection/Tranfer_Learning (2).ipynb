{
  "cells": [
    {
      "cell_type": "code",
      "execution_count": null,
      "metadata": {
        "id": "WtLaxoIpukSA"
      },
      "outputs": [],
      "source": [
        "import cv2\n",
        "from glob import glob\n",
        "import pathlib \n",
        "import numpy as np\n",
        "import pandas as pd\n",
        "import tensorflow as tf\n",
        "import matplotlib.pyplot as plt"
      ]
    },
    {
      "cell_type": "code",
      "execution_count": null,
      "metadata": {
        "colab": {
          "base_uri": "https://localhost:8080/"
        },
        "id": "DjSNujd1_6CP",
        "outputId": "6713a2a1-f3ac-413c-f720-2e4d0b7031a7"
      },
      "outputs": [
        {
          "output_type": "stream",
          "name": "stdout",
          "text": [
            "Mounted at /content/drive\n"
          ]
        }
      ],
      "source": [
        "from google.colab import drive\n",
        "drive.mount('/content/drive')"
      ]
    },
    {
      "cell_type": "code",
      "execution_count": null,
      "metadata": {
        "id": "KEPF9Vt2u6hV"
      },
      "outputs": [],
      "source": [
        "from tensorflow.keras import Sequential\n",
        "from tensorflow.keras.layers import Flatten,Dense,Conv3D,MaxPool3D\n",
        "from tensorflow.keras.optimizers import Adam\n",
        "from tensorflow.keras.losses import SparseCategoricalCrossentropy"
      ]
    },
    {
      "cell_type": "code",
      "execution_count": null,
      "metadata": {
        "id": "kfQoatGGu84J"
      },
      "outputs": [],
      "source": [
        "disease_path=pathlib.Path(\"/content/drive/MyDrive/deep learning/data/Segmented Medicinal Leaf Images\")"
      ]
    },
    {
      "cell_type": "code",
      "execution_count": null,
      "metadata": {
        "id": "_L-kldQ6u8bS"
      },
      "outputs": [],
      "source": [
        "A=list(disease_path.glob(\"Alpinia Galanga (Rasna)/*.jpg\"))          # *-shows all #(malignant/*)- shows all files inside the malignant folder\n",
        "B=list(disease_path.glob(\"Amaranthus Viridis (Arive-Dantu)/*.jpg\"))\n",
        "C=list(disease_path.glob(\"Artocarpus Heterophyllus (Jackfruit)/*.jpg\"))\n",
        "D=list(disease_path.glob(\"Azadirachta Indica (Neem)/*.jpg\"))\n",
        "E=list(disease_path.glob(\"Basella Alba (Basale)/*.jpg\"))\n",
        "F=list(disease_path.glob(\"Brassica Juncea (Indian Mustard)/*.jpg\"))\n",
        "G=list(disease_path.glob(\"Carissa Carandas (Karanda)/*.jpg\"))\n",
        "H=list(disease_path.glob(\"Citrus Limon (Lemon)/*.jpg\"))\n",
        "I=list(disease_path.glob(\"Ficus Auriculata (Roxburgh fig)/*.jpg\"))\n",
        "J=list(disease_path.glob(\"Ficus Religiosa (Peepal Tree)/*.jpg\"))\n",
        "K=list(disease_path.glob(\"Hibiscus Rosa-sinensis/*.jpg\"))\n",
        "L=list(disease_path.glob(\"Jasminum (Jasmine)/*.jpg\"))\n",
        "M=list(disease_path.glob(\"Mangifera Indica (Mango)/*.jpg\"))\n",
        "N=list(disease_path.glob(\"Mentha (Mint)/*.jpg\"))\n",
        "O=list(disease_path.glob(\"Moringa Oleifera (Drumstick)/*.jpg\"))\n",
        "P=list(disease_path.glob(\"Muntingia Calabura (Jamaica Cherry-Gasagase)/*.jpg\"))\n",
        "Q=list(disease_path.glob(\"Murraya Koenigii (Curry)/*.jpg\"))\n",
        "R=list(disease_path.glob(\"Nerium Oleander (Oleander)/*.jpg\"))\n",
        "S=list(disease_path.glob(\"Nyctanthes Arbor-tristis (Parijata)/*.jpg\"))\n",
        "T=list(disease_path.glob(\"Ocimum Tenuiflorum (Tulsi)/*.jpg\"))\n",
        "U=list(disease_path.glob(\"Piper Betle (Betel)/*.jpg\"))\n",
        "V=list(disease_path.glob(\"Plectranthus Amboinicus (Mexican Mint)/*.jpg\"))\n",
        "W=list(disease_path.glob(\"Pongamia Pinnata (Indian Beech)/*.jpg\"))\n",
        "X=list(disease_path.glob(\"Psidium Guajava (Guava)/*.jpg\"))\n",
        "Y=list(disease_path.glob(\"Punica Granatum (Pomegranate)/*.jpg\"))\n",
        "Z=list(disease_path.glob(\"Santalum Album (Sandalwood)/*.jpg\"))\n",
        "AA=list(disease_path.glob(\"Syzygium Cumini (Jamun)/*.jpg\"))\n",
        "BB=list(disease_path.glob(\"Syzygium Jambos (Rose Apple)/*.jpg\"))\n",
        "CC=list(disease_path.glob(\"Tabernaemontana Divaricata (Crape Jasmine)/*.jpg\"))\n",
        "DD=list(disease_path.glob(\"Trigonella Foenum-graecum (Fenugreek)/*.jpg\"))"
      ]
    },
    {
      "cell_type": "markdown",
      "metadata": {
        "id": "xkfw-bDRAdOo"
      },
      "source": [
        "/content/drive/MyDrive/deep learning/data/Segmented Medicinal Leaf Images/Alpinia Galanga (Rasna)"
      ]
    },
    {
      "cell_type": "code",
      "execution_count": null,
      "metadata": {
        "colab": {
          "base_uri": "https://localhost:8080/"
        },
        "id": "EgTJ9qUJvSes",
        "outputId": "f7ab013c-a226-4674-a884-a8772b4b4570"
      },
      "outputs": [
        {
          "output_type": "execute_result",
          "data": {
            "text/plain": [
              "(50,\n",
              " 122,\n",
              " 56,\n",
              " 60,\n",
              " 103,\n",
              " 34,\n",
              " 74,\n",
              " 57,\n",
              " 50,\n",
              " 63,\n",
              " 43,\n",
              " 71,\n",
              " 62,\n",
              " 97,\n",
              " 77,\n",
              " 56,\n",
              " 60,\n",
              " 62,\n",
              " 40,\n",
              " 52,\n",
              " 48,\n",
              " 48,\n",
              " 61,\n",
              " 65,\n",
              " 79,\n",
              " 58,\n",
              " 39,\n",
              " 56,\n",
              " 56,\n",
              " 36)"
            ]
          },
          "metadata": {},
          "execution_count": 6
        }
      ],
      "source": [
        "len(A),len(B),len(C),len(D),len(E),len(F),len(G),len(H),len(I),len(J),len(K),len(L),len(M),len(N),len(O),len(P),len(Q),len(R),len(S),len(T),len(U),len(V),len(W),len(X),len(Y),len(Z),len(AA),len(BB),len(CC),len(DD)"
      ]
    },
    {
      "cell_type": "code",
      "execution_count": null,
      "metadata": {
        "id": "mrojq1sBvUuu"
      },
      "outputs": [],
      "source": [
        "disease_dict={\"Alpinia Galanga (Rasna)\":A,\n",
        "              \"Amaranthus Viridis (Arive-Dantu)\":B,\n",
        "              \"Artocarpus Heterophyllus (Jackfruit)\":C,\n",
        "              \"Azadirachta Indica (Neem)\":D,\n",
        "              \"Basella Alba (Basale)\":E,\n",
        "              \"Brassica Juncea (Indian Mustard)\":F,\n",
        "              \"Carissa Carandas (Karanda)\":G,\n",
        "              \"Citrus Limon (Lemon)\":H,\n",
        "              \"Ficus Auriculata (Roxburgh fig)\":I,\n",
        "              \"Ficus Religiosa (Peepal Tree)\":J,\n",
        "              \"Hibiscus Rosa-sinensis\":K,\n",
        "              \"Jasminum (Jasmine)\":L,\n",
        "              \"Mangifera Indica (Mango)\":M,\n",
        "              \"Mentha (Mint)\":N,\n",
        "              \"Moringa Oleifera (Drumstick)\":O,\n",
        "              \"Muntingia Calabura (Jamaica Cherry-Gasagase)\":P,\n",
        "              \"Murraya Koenigii (Curry)\":Q,\n",
        "              \"Nerium Oleander (Oleander)\":R,\n",
        "              \"Nyctanthes Arbor-tristis (Parijata)\":S,\n",
        "              \"Ocimum Tenuiflorum (Tulsi)\":T,\n",
        "              \"Piper Betle (Betel)\":U,\n",
        "              \"Plectranthus Amboinicus (Mexican Mint)\":V,\n",
        "              \"Pongamia Pinnata (Indian Beech)\":W,\n",
        "              \"Psidium Guajava (Guava)\":X,\n",
        "              \"Punica Granatum (Pomegranate)\":Y,\n",
        "              \"Santalum Album (Sandalwood)\":Z,\n",
        "              \"Syzygium Cumini (Jamun)\":AA,\n",
        "              \"Syzygium Jambos (Rose Apple)\":BB,\n",
        "              \"Tabernaemontana Divaricata (Crape Jasmine)\":CC,\n",
        "              \"Trigonella Foenum-graecum (Fenugreek)\":DD}\n",
        "disease_class={\"Alpinia Galanga (Rasna)\":0,\n",
        "              \"Amaranthus Viridis (Arive-Dantu)\":1,\n",
        "              \"Artocarpus Heterophyllus (Jackfruit)\":2,\n",
        "               \"Azadirachta Indica (Neem)\":3,\n",
        "              \"Basella Alba (Basale)\":4,\n",
        "              \"Brassica Juncea (Indian Mustard)\":5,\n",
        "              \"Carissa Carandas (Karanda)\":6,\n",
        "              \"Citrus Limon (Lemon)\":7,\n",
        "              \"Ficus Auriculata (Roxburgh fig)\":8,\n",
        "              \"Ficus Religiosa (Peepal Tree)\":9,\n",
        "              \"Hibiscus Rosa-sinensis\":10,\n",
        "              \"Jasminum (Jasmine)\":11,\n",
        "              \"Mangifera Indica (Mango)\":12,\n",
        "              \"Mentha (Mint)\":13,\n",
        "              \"Moringa Oleifera (Drumstick)\":14,\n",
        "              \"Muntingia Calabura (Jamaica Cherry-Gasagase)\":15,\n",
        "              \"Murraya Koenigii (Curry)\":16,\n",
        "              \"Nerium Oleander (Oleander)\":17,\n",
        "              \"Nyctanthes Arbor-tristis (Parijata)\":18,\n",
        "              \"Ocimum Tenuiflorum (Tulsi)\":19,\n",
        "              \"Piper Betle (Betel)\":20,\n",
        "              \"Plectranthus Amboinicus (Mexican Mint)\":21,\n",
        "              \"Pongamia Pinnata (Indian Beech)\":22,\n",
        "              \"Psidium Guajava (Guava)\":23,\n",
        "              \"Punica Granatum (Pomegranate)\":24,\n",
        "              \"Santalum Album (Sandalwood)\":25,\n",
        "              \"Syzygium Cumini (Jamun)\":26,\n",
        "              \"Syzygium Jambos (Rose Apple)\":27,\n",
        "              \"Tabernaemontana Divaricata (Crape Jasmine)\":28,\n",
        "              \"Trigonella Foenum-graecum (Fenugreek)\":29\n",
        "              }"
      ]
    },
    {
      "cell_type": "code",
      "execution_count": null,
      "metadata": {
        "id": "DFTrhoDFvW3M"
      },
      "outputs": [],
      "source": [
        "x=[]\n",
        "y=[]"
      ]
    },
    {
      "cell_type": "code",
      "execution_count": null,
      "metadata": {
        "id": "_6IoxqpYvZJO"
      },
      "outputs": [],
      "source": [
        "for i in disease_dict:\n",
        "  disease_name=i\n",
        "  disease_path_list=disease_dict[disease_name]\n",
        "  for path in disease_path_list:\n",
        "    img=cv2.imread(str(path))\n",
        "    img=cv2.resize(img,(224,224))\n",
        "    img=img/255\n",
        "    x.append(img)\n",
        "    cls=disease_class[disease_name]\n",
        "    y.append(cls)"
      ]
    },
    {
      "cell_type": "code",
      "execution_count": null,
      "metadata": {
        "colab": {
          "base_uri": "https://localhost:8080/"
        },
        "id": "7ZeViB8ovdOG",
        "outputId": "42c5d38e-801b-4dad-8b86-9b694636afbe"
      },
      "outputs": [
        {
          "output_type": "execute_result",
          "data": {
            "text/plain": [
              "1835"
            ]
          },
          "metadata": {},
          "execution_count": 10
        }
      ],
      "source": [
        "len(x)"
      ]
    },
    {
      "cell_type": "code",
      "execution_count": null,
      "metadata": {
        "id": "aqel_HYbvfKg"
      },
      "outputs": [],
      "source": [
        "x=np.array(x)\n",
        "y=np.array(y)"
      ]
    },
    {
      "cell_type": "code",
      "execution_count": null,
      "metadata": {
        "id": "bJlEqTUUvhPS"
      },
      "outputs": [],
      "source": [
        "from sklearn.model_selection import train_test_split"
      ]
    },
    {
      "cell_type": "code",
      "execution_count": null,
      "metadata": {
        "id": "knwW-SN7yRMn"
      },
      "outputs": [],
      "source": [
        "xtrain,xtest,ytrain,ytest=train_test_split(x,y,train_size=0.75,random_state=1)"
      ]
    },
    {
      "cell_type": "code",
      "execution_count": null,
      "metadata": {
        "colab": {
          "base_uri": "https://localhost:8080/"
        },
        "id": "v3d0t8auyYCP",
        "outputId": "fc9f8a9a-f8de-4746-efea-94abc7b96068"
      },
      "outputs": [
        {
          "output_type": "execute_result",
          "data": {
            "text/plain": [
              "(1376, 1376, 459, 459)"
            ]
          },
          "metadata": {},
          "execution_count": 14
        }
      ],
      "source": [
        "len(xtrain),len(ytrain),len(xtest),len(ytest)"
      ]
    },
    {
      "cell_type": "code",
      "execution_count": null,
      "metadata": {
        "colab": {
          "base_uri": "https://localhost:8080/"
        },
        "id": "8huZLILByYkN",
        "outputId": "abfaa648-9f03-4b31-cd21-17108bb3bebd"
      },
      "outputs": [
        {
          "output_type": "execute_result",
          "data": {
            "text/plain": [
              "(1376, 224, 224, 3)"
            ]
          },
          "metadata": {},
          "execution_count": 15
        }
      ],
      "source": [
        "xtrain.shape"
      ]
    },
    {
      "cell_type": "markdown",
      "metadata": {
        "id": "mJ816C6DyavC"
      },
      "source": [
        "xtrain.shape,xtest.shape"
      ]
    },
    {
      "cell_type": "code",
      "execution_count": null,
      "metadata": {
        "colab": {
          "base_uri": "https://localhost:8080/"
        },
        "id": "-lhOeziSUgRO",
        "outputId": "1f6fc90c-fec2-4a5a-8e86-ecc99019a977"
      },
      "outputs": [
        {
          "output_type": "execute_result",
          "data": {
            "text/plain": [
              "((1376, 224, 224, 3), (459, 224, 224, 3))"
            ]
          },
          "metadata": {},
          "execution_count": 16
        }
      ],
      "source": [
        "xtrain.shape,xtest.shape"
      ]
    },
    {
      "cell_type": "markdown",
      "metadata": {
        "id": "-C-_kEKQUrIA"
      },
      "source": [
        "xtrain.shape,xtest.shape"
      ]
    },
    {
      "cell_type": "code",
      "execution_count": null,
      "metadata": {
        "id": "ucOfCZeE7HcR"
      },
      "outputs": [],
      "source": [
        "from tensorflow.keras.applications.mobilenet_v2 import MobileNetV2"
      ]
    },
    {
      "cell_type": "code",
      "execution_count": null,
      "metadata": {
        "colab": {
          "base_uri": "https://localhost:8080/",
          "height": 235
        },
        "id": "vw_7Ux8Q6-Gy",
        "outputId": "4d669b44-1aba-4d30-fca9-67b8ef173820"
      },
      "outputs": [
        {
          "output_type": "error",
          "ename": "NameError",
          "evalue": "ignored",
          "traceback": [
            "\u001b[0;31m---------------------------------------------------------------------------\u001b[0m",
            "\u001b[0;31mNameError\u001b[0m                                 Traceback (most recent call last)",
            "\u001b[0;32m<ipython-input-5-bddda272442b>\u001b[0m in \u001b[0;36m<module>\u001b[0;34m\u001b[0m\n\u001b[1;32m      4\u001b[0m \u001b[0;34m\u001b[0m\u001b[0m\n\u001b[1;32m      5\u001b[0m \u001b[0;34m\u001b[0m\u001b[0m\n\u001b[0;32m----> 6\u001b[0;31m base_model = tf.keras.applications (input_shape=(224, 224, 3),\n\u001b[0m\u001b[1;32m      7\u001b[0m                                                \u001b[0minclude_top\u001b[0m\u001b[0;34m=\u001b[0m\u001b[0;32mFalse\u001b[0m\u001b[0;34m,\u001b[0m\u001b[0;34m\u001b[0m\u001b[0;34m\u001b[0m\u001b[0m\n\u001b[1;32m      8\u001b[0m                                                weights='imagenet')\n",
            "\u001b[0;31mNameError\u001b[0m: name 'tf' is not defined"
          ]
        }
      ],
      "source": [
        "base_model = tf.keras.applications.MobileNetV2(input_shape=(224, 224, 3),\n",
        "                                               include_top=False,\n",
        "                                               weights='imagenet')"
      ]
    },
    {
      "cell_type": "code",
      "execution_count": null,
      "metadata": {
        "colab": {
          "base_uri": "https://localhost:8080/"
        },
        "id": "rhyAegmI4DGj",
        "outputId": "f99f1ac8-ffbf-4db3-e95f-2efdad6f1166"
      },
      "outputs": [
        {
          "output_type": "stream",
          "name": "stdout",
          "text": [
            "[INFO] summary for base model...\n",
            "Model: \"mobilenetv2_1.00_224\"\n",
            "__________________________________________________________________________________________________\n",
            " Layer (type)                   Output Shape         Param #     Connected to                     \n",
            "==================================================================================================\n",
            " input_1 (InputLayer)           [(None, 224, 224, 3  0           []                               \n",
            "                                )]                                                                \n",
            "                                                                                                  \n",
            " Conv1 (Conv2D)                 (None, 112, 112, 32  864         ['input_1[0][0]']                \n",
            "                                )                                                                 \n",
            "                                                                                                  \n",
            " bn_Conv1 (BatchNormalization)  (None, 112, 112, 32  128         ['Conv1[0][0]']                  \n",
            "                                )                                                                 \n",
            "                                                                                                  \n",
            " Conv1_relu (ReLU)              (None, 112, 112, 32  0           ['bn_Conv1[0][0]']               \n",
            "                                )                                                                 \n",
            "                                                                                                  \n",
            " expanded_conv_depthwise (Depth  (None, 112, 112, 32  288        ['Conv1_relu[0][0]']             \n",
            " wiseConv2D)                    )                                                                 \n",
            "                                                                                                  \n",
            " expanded_conv_depthwise_BN (Ba  (None, 112, 112, 32  128        ['expanded_conv_depthwise[0][0]']\n",
            " tchNormalization)              )                                                                 \n",
            "                                                                                                  \n",
            " expanded_conv_depthwise_relu (  (None, 112, 112, 32  0          ['expanded_conv_depthwise_BN[0][0\n",
            " ReLU)                          )                                ]']                              \n",
            "                                                                                                  \n",
            " expanded_conv_project (Conv2D)  (None, 112, 112, 16  512        ['expanded_conv_depthwise_relu[0]\n",
            "                                )                                [0]']                            \n",
            "                                                                                                  \n",
            " expanded_conv_project_BN (Batc  (None, 112, 112, 16  64         ['expanded_conv_project[0][0]']  \n",
            " hNormalization)                )                                                                 \n",
            "                                                                                                  \n",
            " block_1_expand (Conv2D)        (None, 112, 112, 96  1536        ['expanded_conv_project_BN[0][0]'\n",
            "                                )                                ]                                \n",
            "                                                                                                  \n",
            " block_1_expand_BN (BatchNormal  (None, 112, 112, 96  384        ['block_1_expand[0][0]']         \n",
            " ization)                       )                                                                 \n",
            "                                                                                                  \n",
            " block_1_expand_relu (ReLU)     (None, 112, 112, 96  0           ['block_1_expand_BN[0][0]']      \n",
            "                                )                                                                 \n",
            "                                                                                                  \n",
            " block_1_pad (ZeroPadding2D)    (None, 113, 113, 96  0           ['block_1_expand_relu[0][0]']    \n",
            "                                )                                                                 \n",
            "                                                                                                  \n",
            " block_1_depthwise (DepthwiseCo  (None, 56, 56, 96)  864         ['block_1_pad[0][0]']            \n",
            " nv2D)                                                                                            \n",
            "                                                                                                  \n",
            " block_1_depthwise_BN (BatchNor  (None, 56, 56, 96)  384         ['block_1_depthwise[0][0]']      \n",
            " malization)                                                                                      \n",
            "                                                                                                  \n",
            " block_1_depthwise_relu (ReLU)  (None, 56, 56, 96)   0           ['block_1_depthwise_BN[0][0]']   \n",
            "                                                                                                  \n",
            " block_1_project (Conv2D)       (None, 56, 56, 24)   2304        ['block_1_depthwise_relu[0][0]'] \n",
            "                                                                                                  \n",
            " block_1_project_BN (BatchNorma  (None, 56, 56, 24)  96          ['block_1_project[0][0]']        \n",
            " lization)                                                                                        \n",
            "                                                                                                  \n",
            " block_2_expand (Conv2D)        (None, 56, 56, 144)  3456        ['block_1_project_BN[0][0]']     \n",
            "                                                                                                  \n",
            " block_2_expand_BN (BatchNormal  (None, 56, 56, 144)  576        ['block_2_expand[0][0]']         \n",
            " ization)                                                                                         \n",
            "                                                                                                  \n",
            " block_2_expand_relu (ReLU)     (None, 56, 56, 144)  0           ['block_2_expand_BN[0][0]']      \n",
            "                                                                                                  \n",
            " block_2_depthwise (DepthwiseCo  (None, 56, 56, 144)  1296       ['block_2_expand_relu[0][0]']    \n",
            " nv2D)                                                                                            \n",
            "                                                                                                  \n",
            " block_2_depthwise_BN (BatchNor  (None, 56, 56, 144)  576        ['block_2_depthwise[0][0]']      \n",
            " malization)                                                                                      \n",
            "                                                                                                  \n",
            " block_2_depthwise_relu (ReLU)  (None, 56, 56, 144)  0           ['block_2_depthwise_BN[0][0]']   \n",
            "                                                                                                  \n",
            " block_2_project (Conv2D)       (None, 56, 56, 24)   3456        ['block_2_depthwise_relu[0][0]'] \n",
            "                                                                                                  \n",
            " block_2_project_BN (BatchNorma  (None, 56, 56, 24)  96          ['block_2_project[0][0]']        \n",
            " lization)                                                                                        \n",
            "                                                                                                  \n",
            " block_2_add (Add)              (None, 56, 56, 24)   0           ['block_1_project_BN[0][0]',     \n",
            "                                                                  'block_2_project_BN[0][0]']     \n",
            "                                                                                                  \n",
            " block_3_expand (Conv2D)        (None, 56, 56, 144)  3456        ['block_2_add[0][0]']            \n",
            "                                                                                                  \n",
            " block_3_expand_BN (BatchNormal  (None, 56, 56, 144)  576        ['block_3_expand[0][0]']         \n",
            " ization)                                                                                         \n",
            "                                                                                                  \n",
            " block_3_expand_relu (ReLU)     (None, 56, 56, 144)  0           ['block_3_expand_BN[0][0]']      \n",
            "                                                                                                  \n",
            " block_3_pad (ZeroPadding2D)    (None, 57, 57, 144)  0           ['block_3_expand_relu[0][0]']    \n",
            "                                                                                                  \n",
            " block_3_depthwise (DepthwiseCo  (None, 28, 28, 144)  1296       ['block_3_pad[0][0]']            \n",
            " nv2D)                                                                                            \n",
            "                                                                                                  \n",
            " block_3_depthwise_BN (BatchNor  (None, 28, 28, 144)  576        ['block_3_depthwise[0][0]']      \n",
            " malization)                                                                                      \n",
            "                                                                                                  \n",
            " block_3_depthwise_relu (ReLU)  (None, 28, 28, 144)  0           ['block_3_depthwise_BN[0][0]']   \n",
            "                                                                                                  \n",
            " block_3_project (Conv2D)       (None, 28, 28, 32)   4608        ['block_3_depthwise_relu[0][0]'] \n",
            "                                                                                                  \n",
            " block_3_project_BN (BatchNorma  (None, 28, 28, 32)  128         ['block_3_project[0][0]']        \n",
            " lization)                                                                                        \n",
            "                                                                                                  \n",
            " block_4_expand (Conv2D)        (None, 28, 28, 192)  6144        ['block_3_project_BN[0][0]']     \n",
            "                                                                                                  \n",
            " block_4_expand_BN (BatchNormal  (None, 28, 28, 192)  768        ['block_4_expand[0][0]']         \n",
            " ization)                                                                                         \n",
            "                                                                                                  \n",
            " block_4_expand_relu (ReLU)     (None, 28, 28, 192)  0           ['block_4_expand_BN[0][0]']      \n",
            "                                                                                                  \n",
            " block_4_depthwise (DepthwiseCo  (None, 28, 28, 192)  1728       ['block_4_expand_relu[0][0]']    \n",
            " nv2D)                                                                                            \n",
            "                                                                                                  \n",
            " block_4_depthwise_BN (BatchNor  (None, 28, 28, 192)  768        ['block_4_depthwise[0][0]']      \n",
            " malization)                                                                                      \n",
            "                                                                                                  \n",
            " block_4_depthwise_relu (ReLU)  (None, 28, 28, 192)  0           ['block_4_depthwise_BN[0][0]']   \n",
            "                                                                                                  \n",
            " block_4_project (Conv2D)       (None, 28, 28, 32)   6144        ['block_4_depthwise_relu[0][0]'] \n",
            "                                                                                                  \n",
            " block_4_project_BN (BatchNorma  (None, 28, 28, 32)  128         ['block_4_project[0][0]']        \n",
            " lization)                                                                                        \n",
            "                                                                                                  \n",
            " block_4_add (Add)              (None, 28, 28, 32)   0           ['block_3_project_BN[0][0]',     \n",
            "                                                                  'block_4_project_BN[0][0]']     \n",
            "                                                                                                  \n",
            " block_5_expand (Conv2D)        (None, 28, 28, 192)  6144        ['block_4_add[0][0]']            \n",
            "                                                                                                  \n",
            " block_5_expand_BN (BatchNormal  (None, 28, 28, 192)  768        ['block_5_expand[0][0]']         \n",
            " ization)                                                                                         \n",
            "                                                                                                  \n",
            " block_5_expand_relu (ReLU)     (None, 28, 28, 192)  0           ['block_5_expand_BN[0][0]']      \n",
            "                                                                                                  \n",
            " block_5_depthwise (DepthwiseCo  (None, 28, 28, 192)  1728       ['block_5_expand_relu[0][0]']    \n",
            " nv2D)                                                                                            \n",
            "                                                                                                  \n",
            " block_5_depthwise_BN (BatchNor  (None, 28, 28, 192)  768        ['block_5_depthwise[0][0]']      \n",
            " malization)                                                                                      \n",
            "                                                                                                  \n",
            " block_5_depthwise_relu (ReLU)  (None, 28, 28, 192)  0           ['block_5_depthwise_BN[0][0]']   \n",
            "                                                                                                  \n",
            " block_5_project (Conv2D)       (None, 28, 28, 32)   6144        ['block_5_depthwise_relu[0][0]'] \n",
            "                                                                                                  \n",
            " block_5_project_BN (BatchNorma  (None, 28, 28, 32)  128         ['block_5_project[0][0]']        \n",
            " lization)                                                                                        \n",
            "                                                                                                  \n",
            " block_5_add (Add)              (None, 28, 28, 32)   0           ['block_4_add[0][0]',            \n",
            "                                                                  'block_5_project_BN[0][0]']     \n",
            "                                                                                                  \n",
            " block_6_expand (Conv2D)        (None, 28, 28, 192)  6144        ['block_5_add[0][0]']            \n",
            "                                                                                                  \n",
            " block_6_expand_BN (BatchNormal  (None, 28, 28, 192)  768        ['block_6_expand[0][0]']         \n",
            " ization)                                                                                         \n",
            "                                                                                                  \n",
            " block_6_expand_relu (ReLU)     (None, 28, 28, 192)  0           ['block_6_expand_BN[0][0]']      \n",
            "                                                                                                  \n",
            " block_6_pad (ZeroPadding2D)    (None, 29, 29, 192)  0           ['block_6_expand_relu[0][0]']    \n",
            "                                                                                                  \n",
            " block_6_depthwise (DepthwiseCo  (None, 14, 14, 192)  1728       ['block_6_pad[0][0]']            \n",
            " nv2D)                                                                                            \n",
            "                                                                                                  \n",
            " block_6_depthwise_BN (BatchNor  (None, 14, 14, 192)  768        ['block_6_depthwise[0][0]']      \n",
            " malization)                                                                                      \n",
            "                                                                                                  \n",
            " block_6_depthwise_relu (ReLU)  (None, 14, 14, 192)  0           ['block_6_depthwise_BN[0][0]']   \n",
            "                                                                                                  \n",
            " block_6_project (Conv2D)       (None, 14, 14, 64)   12288       ['block_6_depthwise_relu[0][0]'] \n",
            "                                                                                                  \n",
            " block_6_project_BN (BatchNorma  (None, 14, 14, 64)  256         ['block_6_project[0][0]']        \n",
            " lization)                                                                                        \n",
            "                                                                                                  \n",
            " block_7_expand (Conv2D)        (None, 14, 14, 384)  24576       ['block_6_project_BN[0][0]']     \n",
            "                                                                                                  \n",
            " block_7_expand_BN (BatchNormal  (None, 14, 14, 384)  1536       ['block_7_expand[0][0]']         \n",
            " ization)                                                                                         \n",
            "                                                                                                  \n",
            " block_7_expand_relu (ReLU)     (None, 14, 14, 384)  0           ['block_7_expand_BN[0][0]']      \n",
            "                                                                                                  \n",
            " block_7_depthwise (DepthwiseCo  (None, 14, 14, 384)  3456       ['block_7_expand_relu[0][0]']    \n",
            " nv2D)                                                                                            \n",
            "                                                                                                  \n",
            " block_7_depthwise_BN (BatchNor  (None, 14, 14, 384)  1536       ['block_7_depthwise[0][0]']      \n",
            " malization)                                                                                      \n",
            "                                                                                                  \n",
            " block_7_depthwise_relu (ReLU)  (None, 14, 14, 384)  0           ['block_7_depthwise_BN[0][0]']   \n",
            "                                                                                                  \n",
            " block_7_project (Conv2D)       (None, 14, 14, 64)   24576       ['block_7_depthwise_relu[0][0]'] \n",
            "                                                                                                  \n",
            " block_7_project_BN (BatchNorma  (None, 14, 14, 64)  256         ['block_7_project[0][0]']        \n",
            " lization)                                                                                        \n",
            "                                                                                                  \n",
            " block_7_add (Add)              (None, 14, 14, 64)   0           ['block_6_project_BN[0][0]',     \n",
            "                                                                  'block_7_project_BN[0][0]']     \n",
            "                                                                                                  \n",
            " block_8_expand (Conv2D)        (None, 14, 14, 384)  24576       ['block_7_add[0][0]']            \n",
            "                                                                                                  \n",
            " block_8_expand_BN (BatchNormal  (None, 14, 14, 384)  1536       ['block_8_expand[0][0]']         \n",
            " ization)                                                                                         \n",
            "                                                                                                  \n",
            " block_8_expand_relu (ReLU)     (None, 14, 14, 384)  0           ['block_8_expand_BN[0][0]']      \n",
            "                                                                                                  \n",
            " block_8_depthwise (DepthwiseCo  (None, 14, 14, 384)  3456       ['block_8_expand_relu[0][0]']    \n",
            " nv2D)                                                                                            \n",
            "                                                                                                  \n",
            " block_8_depthwise_BN (BatchNor  (None, 14, 14, 384)  1536       ['block_8_depthwise[0][0]']      \n",
            " malization)                                                                                      \n",
            "                                                                                                  \n",
            " block_8_depthwise_relu (ReLU)  (None, 14, 14, 384)  0           ['block_8_depthwise_BN[0][0]']   \n",
            "                                                                                                  \n",
            " block_8_project (Conv2D)       (None, 14, 14, 64)   24576       ['block_8_depthwise_relu[0][0]'] \n",
            "                                                                                                  \n",
            " block_8_project_BN (BatchNorma  (None, 14, 14, 64)  256         ['block_8_project[0][0]']        \n",
            " lization)                                                                                        \n",
            "                                                                                                  \n",
            " block_8_add (Add)              (None, 14, 14, 64)   0           ['block_7_add[0][0]',            \n",
            "                                                                  'block_8_project_BN[0][0]']     \n",
            "                                                                                                  \n",
            " block_9_expand (Conv2D)        (None, 14, 14, 384)  24576       ['block_8_add[0][0]']            \n",
            "                                                                                                  \n",
            " block_9_expand_BN (BatchNormal  (None, 14, 14, 384)  1536       ['block_9_expand[0][0]']         \n",
            " ization)                                                                                         \n",
            "                                                                                                  \n",
            " block_9_expand_relu (ReLU)     (None, 14, 14, 384)  0           ['block_9_expand_BN[0][0]']      \n",
            "                                                                                                  \n",
            " block_9_depthwise (DepthwiseCo  (None, 14, 14, 384)  3456       ['block_9_expand_relu[0][0]']    \n",
            " nv2D)                                                                                            \n",
            "                                                                                                  \n",
            " block_9_depthwise_BN (BatchNor  (None, 14, 14, 384)  1536       ['block_9_depthwise[0][0]']      \n",
            " malization)                                                                                      \n",
            "                                                                                                  \n",
            " block_9_depthwise_relu (ReLU)  (None, 14, 14, 384)  0           ['block_9_depthwise_BN[0][0]']   \n",
            "                                                                                                  \n",
            " block_9_project (Conv2D)       (None, 14, 14, 64)   24576       ['block_9_depthwise_relu[0][0]'] \n",
            "                                                                                                  \n",
            " block_9_project_BN (BatchNorma  (None, 14, 14, 64)  256         ['block_9_project[0][0]']        \n",
            " lization)                                                                                        \n",
            "                                                                                                  \n",
            " block_9_add (Add)              (None, 14, 14, 64)   0           ['block_8_add[0][0]',            \n",
            "                                                                  'block_9_project_BN[0][0]']     \n",
            "                                                                                                  \n",
            " block_10_expand (Conv2D)       (None, 14, 14, 384)  24576       ['block_9_add[0][0]']            \n",
            "                                                                                                  \n",
            " block_10_expand_BN (BatchNorma  (None, 14, 14, 384)  1536       ['block_10_expand[0][0]']        \n",
            " lization)                                                                                        \n",
            "                                                                                                  \n",
            " block_10_expand_relu (ReLU)    (None, 14, 14, 384)  0           ['block_10_expand_BN[0][0]']     \n",
            "                                                                                                  \n",
            " block_10_depthwise (DepthwiseC  (None, 14, 14, 384)  3456       ['block_10_expand_relu[0][0]']   \n",
            " onv2D)                                                                                           \n",
            "                                                                                                  \n",
            " block_10_depthwise_BN (BatchNo  (None, 14, 14, 384)  1536       ['block_10_depthwise[0][0]']     \n",
            " rmalization)                                                                                     \n",
            "                                                                                                  \n",
            " block_10_depthwise_relu (ReLU)  (None, 14, 14, 384)  0          ['block_10_depthwise_BN[0][0]']  \n",
            "                                                                                                  \n",
            " block_10_project (Conv2D)      (None, 14, 14, 96)   36864       ['block_10_depthwise_relu[0][0]']\n",
            "                                                                                                  \n",
            " block_10_project_BN (BatchNorm  (None, 14, 14, 96)  384         ['block_10_project[0][0]']       \n",
            " alization)                                                                                       \n",
            "                                                                                                  \n",
            " block_11_expand (Conv2D)       (None, 14, 14, 576)  55296       ['block_10_project_BN[0][0]']    \n",
            "                                                                                                  \n",
            " block_11_expand_BN (BatchNorma  (None, 14, 14, 576)  2304       ['block_11_expand[0][0]']        \n",
            " lization)                                                                                        \n",
            "                                                                                                  \n",
            " block_11_expand_relu (ReLU)    (None, 14, 14, 576)  0           ['block_11_expand_BN[0][0]']     \n",
            "                                                                                                  \n",
            " block_11_depthwise (DepthwiseC  (None, 14, 14, 576)  5184       ['block_11_expand_relu[0][0]']   \n",
            " onv2D)                                                                                           \n",
            "                                                                                                  \n",
            " block_11_depthwise_BN (BatchNo  (None, 14, 14, 576)  2304       ['block_11_depthwise[0][0]']     \n",
            " rmalization)                                                                                     \n",
            "                                                                                                  \n",
            " block_11_depthwise_relu (ReLU)  (None, 14, 14, 576)  0          ['block_11_depthwise_BN[0][0]']  \n",
            "                                                                                                  \n",
            " block_11_project (Conv2D)      (None, 14, 14, 96)   55296       ['block_11_depthwise_relu[0][0]']\n",
            "                                                                                                  \n",
            " block_11_project_BN (BatchNorm  (None, 14, 14, 96)  384         ['block_11_project[0][0]']       \n",
            " alization)                                                                                       \n",
            "                                                                                                  \n",
            " block_11_add (Add)             (None, 14, 14, 96)   0           ['block_10_project_BN[0][0]',    \n",
            "                                                                  'block_11_project_BN[0][0]']    \n",
            "                                                                                                  \n",
            " block_12_expand (Conv2D)       (None, 14, 14, 576)  55296       ['block_11_add[0][0]']           \n",
            "                                                                                                  \n",
            " block_12_expand_BN (BatchNorma  (None, 14, 14, 576)  2304       ['block_12_expand[0][0]']        \n",
            " lization)                                                                                        \n",
            "                                                                                                  \n",
            " block_12_expand_relu (ReLU)    (None, 14, 14, 576)  0           ['block_12_expand_BN[0][0]']     \n",
            "                                                                                                  \n",
            " block_12_depthwise (DepthwiseC  (None, 14, 14, 576)  5184       ['block_12_expand_relu[0][0]']   \n",
            " onv2D)                                                                                           \n",
            "                                                                                                  \n",
            " block_12_depthwise_BN (BatchNo  (None, 14, 14, 576)  2304       ['block_12_depthwise[0][0]']     \n",
            " rmalization)                                                                                     \n",
            "                                                                                                  \n",
            " block_12_depthwise_relu (ReLU)  (None, 14, 14, 576)  0          ['block_12_depthwise_BN[0][0]']  \n",
            "                                                                                                  \n",
            " block_12_project (Conv2D)      (None, 14, 14, 96)   55296       ['block_12_depthwise_relu[0][0]']\n",
            "                                                                                                  \n",
            " block_12_project_BN (BatchNorm  (None, 14, 14, 96)  384         ['block_12_project[0][0]']       \n",
            " alization)                                                                                       \n",
            "                                                                                                  \n",
            " block_12_add (Add)             (None, 14, 14, 96)   0           ['block_11_add[0][0]',           \n",
            "                                                                  'block_12_project_BN[0][0]']    \n",
            "                                                                                                  \n",
            " block_13_expand (Conv2D)       (None, 14, 14, 576)  55296       ['block_12_add[0][0]']           \n",
            "                                                                                                  \n",
            " block_13_expand_BN (BatchNorma  (None, 14, 14, 576)  2304       ['block_13_expand[0][0]']        \n",
            " lization)                                                                                        \n",
            "                                                                                                  \n",
            " block_13_expand_relu (ReLU)    (None, 14, 14, 576)  0           ['block_13_expand_BN[0][0]']     \n",
            "                                                                                                  \n",
            " block_13_pad (ZeroPadding2D)   (None, 15, 15, 576)  0           ['block_13_expand_relu[0][0]']   \n",
            "                                                                                                  \n",
            " block_13_depthwise (DepthwiseC  (None, 7, 7, 576)   5184        ['block_13_pad[0][0]']           \n",
            " onv2D)                                                                                           \n",
            "                                                                                                  \n",
            " block_13_depthwise_BN (BatchNo  (None, 7, 7, 576)   2304        ['block_13_depthwise[0][0]']     \n",
            " rmalization)                                                                                     \n",
            "                                                                                                  \n",
            " block_13_depthwise_relu (ReLU)  (None, 7, 7, 576)   0           ['block_13_depthwise_BN[0][0]']  \n",
            "                                                                                                  \n",
            " block_13_project (Conv2D)      (None, 7, 7, 160)    92160       ['block_13_depthwise_relu[0][0]']\n",
            "                                                                                                  \n",
            " block_13_project_BN (BatchNorm  (None, 7, 7, 160)   640         ['block_13_project[0][0]']       \n",
            " alization)                                                                                       \n",
            "                                                                                                  \n",
            " block_14_expand (Conv2D)       (None, 7, 7, 960)    153600      ['block_13_project_BN[0][0]']    \n",
            "                                                                                                  \n",
            " block_14_expand_BN (BatchNorma  (None, 7, 7, 960)   3840        ['block_14_expand[0][0]']        \n",
            " lization)                                                                                        \n",
            "                                                                                                  \n",
            " block_14_expand_relu (ReLU)    (None, 7, 7, 960)    0           ['block_14_expand_BN[0][0]']     \n",
            "                                                                                                  \n",
            " block_14_depthwise (DepthwiseC  (None, 7, 7, 960)   8640        ['block_14_expand_relu[0][0]']   \n",
            " onv2D)                                                                                           \n",
            "                                                                                                  \n",
            " block_14_depthwise_BN (BatchNo  (None, 7, 7, 960)   3840        ['block_14_depthwise[0][0]']     \n",
            " rmalization)                                                                                     \n",
            "                                                                                                  \n",
            " block_14_depthwise_relu (ReLU)  (None, 7, 7, 960)   0           ['block_14_depthwise_BN[0][0]']  \n",
            "                                                                                                  \n",
            " block_14_project (Conv2D)      (None, 7, 7, 160)    153600      ['block_14_depthwise_relu[0][0]']\n",
            "                                                                                                  \n",
            " block_14_project_BN (BatchNorm  (None, 7, 7, 160)   640         ['block_14_project[0][0]']       \n",
            " alization)                                                                                       \n",
            "                                                                                                  \n",
            " block_14_add (Add)             (None, 7, 7, 160)    0           ['block_13_project_BN[0][0]',    \n",
            "                                                                  'block_14_project_BN[0][0]']    \n",
            "                                                                                                  \n",
            " block_15_expand (Conv2D)       (None, 7, 7, 960)    153600      ['block_14_add[0][0]']           \n",
            "                                                                                                  \n",
            " block_15_expand_BN (BatchNorma  (None, 7, 7, 960)   3840        ['block_15_expand[0][0]']        \n",
            " lization)                                                                                        \n",
            "                                                                                                  \n",
            " block_15_expand_relu (ReLU)    (None, 7, 7, 960)    0           ['block_15_expand_BN[0][0]']     \n",
            "                                                                                                  \n",
            " block_15_depthwise (DepthwiseC  (None, 7, 7, 960)   8640        ['block_15_expand_relu[0][0]']   \n",
            " onv2D)                                                                                           \n",
            "                                                                                                  \n",
            " block_15_depthwise_BN (BatchNo  (None, 7, 7, 960)   3840        ['block_15_depthwise[0][0]']     \n",
            " rmalization)                                                                                     \n",
            "                                                                                                  \n",
            " block_15_depthwise_relu (ReLU)  (None, 7, 7, 960)   0           ['block_15_depthwise_BN[0][0]']  \n",
            "                                                                                                  \n",
            " block_15_project (Conv2D)      (None, 7, 7, 160)    153600      ['block_15_depthwise_relu[0][0]']\n",
            "                                                                                                  \n",
            " block_15_project_BN (BatchNorm  (None, 7, 7, 160)   640         ['block_15_project[0][0]']       \n",
            " alization)                                                                                       \n",
            "                                                                                                  \n",
            " block_15_add (Add)             (None, 7, 7, 160)    0           ['block_14_add[0][0]',           \n",
            "                                                                  'block_15_project_BN[0][0]']    \n",
            "                                                                                                  \n",
            " block_16_expand (Conv2D)       (None, 7, 7, 960)    153600      ['block_15_add[0][0]']           \n",
            "                                                                                                  \n",
            " block_16_expand_BN (BatchNorma  (None, 7, 7, 960)   3840        ['block_16_expand[0][0]']        \n",
            " lization)                                                                                        \n",
            "                                                                                                  \n",
            " block_16_expand_relu (ReLU)    (None, 7, 7, 960)    0           ['block_16_expand_BN[0][0]']     \n",
            "                                                                                                  \n",
            " block_16_depthwise (DepthwiseC  (None, 7, 7, 960)   8640        ['block_16_expand_relu[0][0]']   \n",
            " onv2D)                                                                                           \n",
            "                                                                                                  \n",
            " block_16_depthwise_BN (BatchNo  (None, 7, 7, 960)   3840        ['block_16_depthwise[0][0]']     \n",
            " rmalization)                                                                                     \n",
            "                                                                                                  \n",
            " block_16_depthwise_relu (ReLU)  (None, 7, 7, 960)   0           ['block_16_depthwise_BN[0][0]']  \n",
            "                                                                                                  \n",
            " block_16_project (Conv2D)      (None, 7, 7, 320)    307200      ['block_16_depthwise_relu[0][0]']\n",
            "                                                                                                  \n",
            " block_16_project_BN (BatchNorm  (None, 7, 7, 320)   1280        ['block_16_project[0][0]']       \n",
            " alization)                                                                                       \n",
            "                                                                                                  \n",
            " Conv_1 (Conv2D)                (None, 7, 7, 1280)   409600      ['block_16_project_BN[0][0]']    \n",
            "                                                                                                  \n",
            " Conv_1_bn (BatchNormalization)  (None, 7, 7, 1280)  5120        ['Conv_1[0][0]']                 \n",
            "                                                                                                  \n",
            " out_relu (ReLU)                (None, 7, 7, 1280)   0           ['Conv_1_bn[0][0]']              \n",
            "                                                                                                  \n",
            "==================================================================================================\n",
            "Total params: 2,257,984\n",
            "Trainable params: 2,223,872\n",
            "Non-trainable params: 34,112\n",
            "__________________________________________________________________________________________________\n",
            "None\n"
          ]
        }
      ],
      "source": [
        "print(\"[INFO] summary for base model...\")\n",
        "print(base_model.summary())"
      ]
    },
    {
      "cell_type": "code",
      "execution_count": null,
      "metadata": {
        "id": "AXh-BvoG5J5z"
      },
      "outputs": [],
      "source": [
        "from tensorflow.keras.layers import MaxPooling2D\n",
        "from keras.layers.core import Dropout\n",
        "from tensorflow.keras.models import Model\n",
        "# construct the head of the model that will be placed on top of the\n",
        "# the base model\n",
        "headModel = base_model.output\n",
        "headModel = MaxPooling2D(pool_size=(2, 2))(headModel)\n",
        "headModel = Flatten(name=\"flatten\")(headModel)\n",
        "headModel = Dense(32, activation=\"relu\")(headModel)\n",
        "headModel = Dropout(0.2)(headModel)\n",
        "headModel = Dense(30, activation=\"softmax\")(headModel)\n",
        "# place the head FC model on top of the base model (this will become\n",
        "# the actual model we will train)\n",
        "model = Model(inputs=base_model.input, outputs=headModel)\n",
        "# loop over all layers in the base model and freeze them so they will\n",
        "# *not* be updated during the first training process\n",
        "for layer in base_model.layers:\n",
        "\tlayer.trainable = False"
      ]
    },
    {
      "cell_type": "code",
      "execution_count": null,
      "metadata": {
        "colab": {
          "base_uri": "https://localhost:8080/"
        },
        "id": "Xbq6HJ1U7WUG",
        "outputId": "fef9cdb2-eb3c-44ac-8468-5fd946a96639"
      },
      "outputs": [
        {
          "output_type": "stream",
          "name": "stdout",
          "text": [
            "[INFO] compiling model...\n",
            "[INFO] training head...\n"
          ]
        },
        {
          "output_type": "stream",
          "name": "stderr",
          "text": [
            "/usr/local/lib/python3.7/dist-packages/keras/optimizers/optimizer_v2/adam.py:110: UserWarning: The `lr` argument is deprecated, use `learning_rate` instead.\n",
            "  super(Adam, self).__init__(name, **kwargs)\n"
          ]
        },
        {
          "output_type": "stream",
          "name": "stdout",
          "text": [
            "Epoch 1/25\n",
            "8/8 [==============================] - 53s 6s/step - loss: 3.7564 - accuracy: 0.0799 - val_loss: 3.1185 - val_accuracy: 0.1307\n",
            "Epoch 2/25\n",
            "8/8 [==============================] - 49s 6s/step - loss: 2.9824 - accuracy: 0.1395 - val_loss: 2.7251 - val_accuracy: 0.2157\n",
            "Epoch 3/25\n",
            "8/8 [==============================] - 49s 6s/step - loss: 2.7036 - accuracy: 0.2086 - val_loss: 2.4497 - val_accuracy: 0.3268\n",
            "Epoch 4/25\n",
            "8/8 [==============================] - 52s 7s/step - loss: 2.4142 - accuracy: 0.2972 - val_loss: 2.1820 - val_accuracy: 0.3943\n",
            "Epoch 5/25\n",
            "8/8 [==============================] - 48s 6s/step - loss: 2.1417 - accuracy: 0.3590 - val_loss: 1.8487 - val_accuracy: 0.4793\n",
            "Epoch 6/25\n",
            "8/8 [==============================] - 48s 6s/step - loss: 1.9048 - accuracy: 0.4469 - val_loss: 1.5857 - val_accuracy: 0.5839\n",
            "Epoch 7/25\n",
            "8/8 [==============================] - 48s 6s/step - loss: 1.6602 - accuracy: 0.5182 - val_loss: 1.3925 - val_accuracy: 0.6340\n",
            "Epoch 8/25\n",
            "8/8 [==============================] - 49s 6s/step - loss: 1.5226 - accuracy: 0.5516 - val_loss: 1.2184 - val_accuracy: 0.6710\n",
            "Epoch 9/25\n",
            "8/8 [==============================] - 53s 7s/step - loss: 1.3191 - accuracy: 0.6294 - val_loss: 1.1162 - val_accuracy: 0.7233\n",
            "Epoch 10/25\n",
            "8/8 [==============================] - 49s 6s/step - loss: 1.2540 - accuracy: 0.6177 - val_loss: 0.9991 - val_accuracy: 0.7669\n",
            "Epoch 11/25\n",
            "8/8 [==============================] - 48s 6s/step - loss: 1.1618 - accuracy: 0.6584 - val_loss: 0.8943 - val_accuracy: 0.8039\n",
            "Epoch 12/25\n",
            "8/8 [==============================] - 48s 6s/step - loss: 1.0545 - accuracy: 0.6984 - val_loss: 0.8004 - val_accuracy: 0.8366\n",
            "Epoch 13/25\n",
            "8/8 [==============================] - 49s 6s/step - loss: 0.9664 - accuracy: 0.7195 - val_loss: 0.7282 - val_accuracy: 0.8453\n",
            "Epoch 14/25\n",
            "8/8 [==============================] - 52s 7s/step - loss: 0.8982 - accuracy: 0.7435 - val_loss: 0.6764 - val_accuracy: 0.8736\n",
            "Epoch 15/25\n",
            "8/8 [==============================] - 49s 6s/step - loss: 0.8545 - accuracy: 0.7565 - val_loss: 0.6317 - val_accuracy: 0.8824\n",
            "Epoch 16/25\n",
            "8/8 [==============================] - 48s 6s/step - loss: 0.7819 - accuracy: 0.7900 - val_loss: 0.5671 - val_accuracy: 0.8932\n",
            "Epoch 17/25\n",
            "8/8 [==============================] - 50s 6s/step - loss: 0.7196 - accuracy: 0.7972 - val_loss: 0.5279 - val_accuracy: 0.9063\n",
            "Epoch 18/25\n",
            "8/8 [==============================] - 52s 7s/step - loss: 0.7229 - accuracy: 0.8038 - val_loss: 0.5059 - val_accuracy: 0.9172\n",
            "Epoch 19/25\n",
            "8/8 [==============================] - 51s 7s/step - loss: 0.6328 - accuracy: 0.8278 - val_loss: 0.4739 - val_accuracy: 0.9150\n",
            "Epoch 20/25\n",
            "8/8 [==============================] - 50s 6s/step - loss: 0.6010 - accuracy: 0.8328 - val_loss: 0.4405 - val_accuracy: 0.9237\n",
            "Epoch 21/25\n",
            "8/8 [==============================] - 48s 6s/step - loss: 0.5902 - accuracy: 0.8372 - val_loss: 0.4179 - val_accuracy: 0.9237\n",
            "Epoch 22/25\n",
            "8/8 [==============================] - 49s 6s/step - loss: 0.5739 - accuracy: 0.8438 - val_loss: 0.4064 - val_accuracy: 0.9281\n",
            "Epoch 23/25\n",
            "8/8 [==============================] - 51s 7s/step - loss: 0.5075 - accuracy: 0.8656 - val_loss: 0.3801 - val_accuracy: 0.9325\n",
            "Epoch 24/25\n",
            "8/8 [==============================] - 50s 6s/step - loss: 0.5028 - accuracy: 0.8656 - val_loss: 0.3795 - val_accuracy: 0.9259\n",
            "Epoch 25/25\n",
            "8/8 [==============================] - 49s 6s/step - loss: 0.4840 - accuracy: 0.8757 - val_loss: 0.3516 - val_accuracy: 0.9346\n"
          ]
        }
      ],
      "source": [
        "from tensorflow.keras.optimizers import Adam\n",
        "# compile our model (this needs to be done after our setting our\n",
        "# layers to being non-trainable)\n",
        "print(\"[INFO] compiling model...\")\n",
        "opt = Adam(lr=1e-4)\n",
        "model.compile(loss=\"sparse_categorical_crossentropy\", optimizer=opt,\n",
        "\tmetrics=[\"accuracy\"])\n",
        "# train the head of the network for a few epochs (all other layers\n",
        "# are frozen) -- this will allow the new FC layers to start to become\n",
        "# initialized with actual \"learned\" values versus pure random\n",
        "print(\"[INFO] training head...\")\n",
        "#H = model.fit(\n",
        "\t#data_generator.flow(xtrain, ytrain, batch_size=32),\n",
        "#\tsteps_per_epoch=len(xtrain) // 32,\n",
        "\t#validation_data=valAug.flow(xtest, ytest),\n",
        "\t#validation_steps=len(xtest) // 32,\n",
        "#\tepochs=5)\n",
        "\n",
        "model_hist=model.fit(xtrain,ytrain,epochs=25,validation_data=(xtest,ytest),batch_size=180)"
      ]
    },
    {
      "cell_type": "code",
      "execution_count": null,
      "metadata": {
        "id": "EADXw3A39Nsd"
      },
      "outputs": [],
      "source": [
        "model.save(\"heart.h5\")\n"
      ]
    },
    {
      "cell_type": "code",
      "execution_count": null,
      "metadata": {
        "id": "YdR-J2j48dDe"
      },
      "outputs": [],
      "source": [
        "from tensorflow.keras.preprocessing import image\n",
        "# testing the model\n",
        "def testing_image(image_directory):\n",
        "    test_image = image.load_img(image_directory, target_size = (224, 224))\n",
        "    test_image = image.img_to_array(test_image)\n",
        "    test_image = np.expand_dims(test_image, axis = 0)\n",
        "    test_image = test_image/255\n",
        "    result = model.predict(x= test_image)\n",
        "    print(result)\n",
        "    if np.argmax(result)  == 0:        \n",
        "      prediction = 'Rasna'\n",
        "    elif np.argmax(result)  == 1:\n",
        "      prediction = 'Arive-Dantu'\n",
        "    elif np.argmax(result)  == 2:\n",
        "      prediction ='Jackfruit'  \n",
        "    elif np.argmax(result)  == 3:\n",
        "      prediction = 'Neem'\n",
        "    elif np.argmax(result)  == 4:\n",
        "      prediction ='Basale'\n",
        "    elif np.argmax(result)  == 5:\n",
        "      prediction = 'Indian Mustard'\n",
        "    elif np.argmax(result)  == 6:\n",
        "      prediction ='Karanda'  \n",
        "    elif np.argmax(result)  == 7:\n",
        "      prediction = 'Lemon'\n",
        "    elif np.argmax(result)  == 8:\n",
        "      prediction ='Roxburgh fig'\n",
        "    elif np.argmax(result)  == 9:\n",
        "      prediction = 'Peepal Tree'\n",
        "    elif np.argmax(result)  == 10:\n",
        "      prediction ='sinensis'  \n",
        "    elif np.argmax(result)  == 11:\n",
        "      prediction = 'Jasmine'\n",
        "    elif np.argmax(result)  == 12:\n",
        "      prediction ='Mango'\n",
        "    elif np.argmax(result)  == 13:\n",
        "      prediction = 'Mint'\n",
        "    elif np.argmax(result)  == 14:\n",
        "      prediction ='Drumstick'  \n",
        "    elif np.argmax(result)  == 15:\n",
        "      prediction = 'Jamaica Cherry-Gasagase'\n",
        "    elif np.argmax(result)  == 16:\n",
        "      prediction ='Curry'\n",
        "    elif np.argmax(result)  == 17:\n",
        "      prediction = 'Oleander'\n",
        "    elif np.argmax(result)  == 18:\n",
        "      prediction ='Parijata'  \n",
        "    elif np.argmax(result)  == 19:\n",
        "      prediction = 'Tulsi'\n",
        "    elif np.argmax(result)  == 20:\n",
        "      prediction ='Betel'\n",
        "    elif np.argmax(result)  == 21:\n",
        "      prediction = 'Mexican Mint'\n",
        "    elif np.argmax(result)  == 22:\n",
        "      prediction ='Indian Beech'  \n",
        "    elif np.argmax(result)  == 23:\n",
        "      prediction = 'Guava'\n",
        "    elif np.argmax(result)  == 24:\n",
        "      prediction ='Pomegranate'\n",
        "    elif np.argmax(result)  == 25:\n",
        "      prediction = 'Sandalwood'\n",
        "    elif np.argmax(result)  == 26:\n",
        "      prediction ='Jamun'  \n",
        "    elif np.argmax(result)  == 27:\n",
        "      prediction = 'Rose Apple'\n",
        "    elif np.argmax(result)  == 28:\n",
        "      prediction ='Crape Jasmine'\n",
        "    elif np.argmax(result)  == 29:\n",
        "      prediction = 'Fenugreek'              \n",
        "    else:\n",
        "      prediction = 'Unknown'\n",
        "    return prediction"
      ]
    },
    {
      "cell_type": "code",
      "execution_count": null,
      "metadata": {
        "colab": {
          "base_uri": "https://localhost:8080/"
        },
        "id": "1t25TdkY7aDI",
        "outputId": "fb99cc9f-1fd1-4707-9834-bacbcc7e8967"
      },
      "outputs": [
        {
          "output_type": "stream",
          "name": "stdout",
          "text": [
            "1/1 [==============================] - 1s 822ms/step\n",
            "[[2.5992983e-04 1.8529401e-03 1.8827496e-03 5.5799086e-04 1.8437263e-03\n",
            "  1.8076273e-05 4.7791526e-03 7.0508913e-04 5.7281254e-06 1.6795502e-03\n",
            "  2.9253182e-05 7.5041275e-03 2.0212230e-05 3.6687197e-04 1.4464639e-04\n",
            "  2.0257696e-05 6.5764661e-06 1.1495864e-05 4.8914626e-06 1.0297415e-04\n",
            "  5.5535893e-06 4.7523103e-05 9.3881166e-01 2.4247346e-02 1.7535078e-04\n",
            "  3.6320445e-04 7.9604359e-03 6.5107457e-03 5.2431235e-05 2.9503935e-05]]\n",
            "Indian Beech\n"
          ]
        }
      ],
      "source": [
        "print(testing_image('/content/drive/MyDrive/deep learning/data/Segmented Medicinal Leaf Images/Pongamia Pinnata (Indian Beech)/PP-S-040.jpg'))"
      ]
    },
    {
      "cell_type": "code",
      "execution_count": null,
      "metadata": {
        "id": "YWiv9zwh8kWa"
      },
      "outputs": [],
      "source": []
    },
    {
      "cell_type": "markdown",
      "metadata": {
        "id": "T4phX6H6cgk0"
      },
      "source": []
    },
    {
      "cell_type": "code",
      "source": [
        "import tensorflow as tf"
      ],
      "metadata": {
        "id": "_el3K8DCyP8f"
      },
      "execution_count": null,
      "outputs": []
    },
    {
      "cell_type": "code",
      "source": [
        "tf.__version__"
      ],
      "metadata": {
        "colab": {
          "base_uri": "https://localhost:8080/",
          "height": 35
        },
        "id": "nFYc_H6eyRB-",
        "outputId": "bbc4b5aa-10f5-47cb-cfb1-42fba3910af1"
      },
      "execution_count": null,
      "outputs": [
        {
          "output_type": "execute_result",
          "data": {
            "text/plain": [
              "'2.9.2'"
            ],
            "application/vnd.google.colaboratory.intrinsic+json": {
              "type": "string"
            }
          },
          "metadata": {},
          "execution_count": 15
        }
      ]
    },
    {
      "cell_type": "code",
      "source": [],
      "metadata": {
        "colab": {
          "base_uri": "https://localhost:8080/"
        },
        "id": "waf3xWEyy3uw",
        "outputId": "e4685e0f-0855-47c1-955a-29622190e056"
      },
      "execution_count": null,
      "outputs": [
        {
          "output_type": "stream",
          "name": "stdout",
          "text": [
            "/bin/bash: cv2.__version__: command not found\n"
          ]
        }
      ]
    },
    {
      "cell_type": "code",
      "source": [],
      "metadata": {
        "id": "x8EIfeddzhpT"
      },
      "execution_count": null,
      "outputs": []
    }
  ],
  "metadata": {
    "colab": {
      "provenance": []
    },
    "kernelspec": {
      "display_name": "Python 3",
      "name": "python3"
    },
    "language_info": {
      "name": "python"
    }
  },
  "nbformat": 4,
  "nbformat_minor": 0
}